{
 "cells": [
  {
   "cell_type": "code",
   "execution_count": 1,
   "metadata": {},
   "outputs": [],
   "source": [
    "from bs4 import BeautifulSoup as bs\n",
    "import requests\n",
    "\n",
    "import pandas as pd"
   ]
  },
  {
   "cell_type": "markdown",
   "metadata": {},
   "source": [
    "## Requisitions and parse to Beautiful Soup"
   ]
  },
  {
   "cell_type": "code",
   "execution_count": 2,
   "metadata": {},
   "outputs": [],
   "source": [
    "req = requests.get('https://www.imdb.com/chart/top?ref_=nv_mv_250')"
   ]
  },
  {
   "cell_type": "code",
   "execution_count": 3,
   "metadata": {},
   "outputs": [],
   "source": [
    "soup = bs(req.text, 'lxml')"
   ]
  },
  {
   "cell_type": "markdown",
   "metadata": {},
   "source": [
    "## get Title, year and rating of the movies"
   ]
  },
  {
   "cell_type": "code",
   "execution_count": 4,
   "metadata": {},
   "outputs": [],
   "source": [
    "movies = soup.select('.lister-list tr')"
   ]
  },
  {
   "cell_type": "code",
   "execution_count": 6,
   "metadata": {},
   "outputs": [],
   "source": [
    "titles = []\n",
    "directors_writers = []\n",
    "years = []\n",
    "ratings = []\n",
    "\n",
    "for movie in movies:\n",
    "    titles.append(movie.find('td', class_='titleColumn').find('a').get_text())\n",
    "    directors_writers.append(movie.find('td', class_='titleColumn').find('a')['title'])\n",
    "    years.append(movie.find('td', class_='titleColumn').find('span').get_text()[1:5])\n",
    "    ratings.append(movie.find('td', class_='imdbRating').find('strong').get_text())"
   ]
  },
  {
   "cell_type": "markdown",
   "metadata": {},
   "source": [
    "## Creating a new dataframe and parsing to csv"
   ]
  },
  {
   "cell_type": "code",
   "execution_count": 7,
   "metadata": {},
   "outputs": [],
   "source": [
    "movies_dataframe = pd.DataFrame({\n",
    "    \"title\":titles,\n",
    "    \"year\":years,\n",
    "    \"rating\":ratings,\n",
    "    \"directors_and_writers\":directors_writers\n",
    "})"
   ]
  },
  {
   "cell_type": "code",
   "execution_count": 8,
   "metadata": {
    "scrolled": true
   },
   "outputs": [
    {
     "data": {
      "text/html": [
       "<div>\n",
       "<style scoped>\n",
       "    .dataframe tbody tr th:only-of-type {\n",
       "        vertical-align: middle;\n",
       "    }\n",
       "\n",
       "    .dataframe tbody tr th {\n",
       "        vertical-align: top;\n",
       "    }\n",
       "\n",
       "    .dataframe thead th {\n",
       "        text-align: right;\n",
       "    }\n",
       "</style>\n",
       "<table border=\"1\" class=\"dataframe\">\n",
       "  <thead>\n",
       "    <tr style=\"text-align: right;\">\n",
       "      <th></th>\n",
       "      <th>title</th>\n",
       "      <th>year</th>\n",
       "      <th>rating</th>\n",
       "      <th>directors_and_writers</th>\n",
       "    </tr>\n",
       "  </thead>\n",
       "  <tbody>\n",
       "    <tr>\n",
       "      <th>0</th>\n",
       "      <td>Um Sonho de Liberdade</td>\n",
       "      <td>1994</td>\n",
       "      <td>9.2</td>\n",
       "      <td>Frank Darabont (dir.), Tim Robbins, Morgan Fre...</td>\n",
       "    </tr>\n",
       "    <tr>\n",
       "      <th>1</th>\n",
       "      <td>O Poderoso Chefão</td>\n",
       "      <td>1972</td>\n",
       "      <td>9.1</td>\n",
       "      <td>Francis Ford Coppola (dir.), Marlon Brando, Al...</td>\n",
       "    </tr>\n",
       "    <tr>\n",
       "      <th>2</th>\n",
       "      <td>O Poderoso Chefão II</td>\n",
       "      <td>1974</td>\n",
       "      <td>9.0</td>\n",
       "      <td>Francis Ford Coppola (dir.), Al Pacino, Robert...</td>\n",
       "    </tr>\n",
       "    <tr>\n",
       "      <th>3</th>\n",
       "      <td>Batman: O Cavaleiro das Trevas</td>\n",
       "      <td>2008</td>\n",
       "      <td>9.0</td>\n",
       "      <td>Christopher Nolan (dir.), Christian Bale, Heat...</td>\n",
       "    </tr>\n",
       "    <tr>\n",
       "      <th>4</th>\n",
       "      <td>12 Homens e uma Sentença</td>\n",
       "      <td>1957</td>\n",
       "      <td>8.9</td>\n",
       "      <td>Sidney Lumet (dir.), Henry Fonda, Lee J. Cobb</td>\n",
       "    </tr>\n",
       "    <tr>\n",
       "      <th>...</th>\n",
       "      <td>...</td>\n",
       "      <td>...</td>\n",
       "      <td>...</td>\n",
       "      <td>...</td>\n",
       "    </tr>\n",
       "    <tr>\n",
       "      <th>245</th>\n",
       "      <td>Aladdin</td>\n",
       "      <td>1992</td>\n",
       "      <td>8.0</td>\n",
       "      <td>Ron Clements (dir.), Scott Weinger, Robin Will...</td>\n",
       "    </tr>\n",
       "    <tr>\n",
       "      <th>246</th>\n",
       "      <td>O Castelo no Céu</td>\n",
       "      <td>1986</td>\n",
       "      <td>8.0</td>\n",
       "      <td>Hayao Miyazaki (dir.), Anna Paquin, James Van ...</td>\n",
       "    </tr>\n",
       "    <tr>\n",
       "      <th>247</th>\n",
       "      <td>Guardiões da Galáxia</td>\n",
       "      <td>2014</td>\n",
       "      <td>8.0</td>\n",
       "      <td>James Gunn (dir.), Chris Pratt, Vin Diesel</td>\n",
       "    </tr>\n",
       "    <tr>\n",
       "      <th>248</th>\n",
       "      <td>A Batalha de Argel</td>\n",
       "      <td>1966</td>\n",
       "      <td>8.0</td>\n",
       "      <td>Gillo Pontecorvo (dir.), Brahim Hadjadj, Jean ...</td>\n",
       "    </tr>\n",
       "    <tr>\n",
       "      <th>249</th>\n",
       "      <td>Um Contratempo</td>\n",
       "      <td>2016</td>\n",
       "      <td>8.0</td>\n",
       "      <td>Oriol Paulo (dir.), Mario Casas, Ana Wagener</td>\n",
       "    </tr>\n",
       "  </tbody>\n",
       "</table>\n",
       "<p>250 rows × 4 columns</p>\n",
       "</div>"
      ],
      "text/plain": [
       "                              title  year rating  \\\n",
       "0             Um Sonho de Liberdade  1994    9.2   \n",
       "1                 O Poderoso Chefão  1972    9.1   \n",
       "2              O Poderoso Chefão II  1974    9.0   \n",
       "3    Batman: O Cavaleiro das Trevas  2008    9.0   \n",
       "4          12 Homens e uma Sentença  1957    8.9   \n",
       "..                              ...   ...    ...   \n",
       "245                         Aladdin  1992    8.0   \n",
       "246                O Castelo no Céu  1986    8.0   \n",
       "247            Guardiões da Galáxia  2014    8.0   \n",
       "248              A Batalha de Argel  1966    8.0   \n",
       "249                  Um Contratempo  2016    8.0   \n",
       "\n",
       "                                 directors_and_writers  \n",
       "0    Frank Darabont (dir.), Tim Robbins, Morgan Fre...  \n",
       "1    Francis Ford Coppola (dir.), Marlon Brando, Al...  \n",
       "2    Francis Ford Coppola (dir.), Al Pacino, Robert...  \n",
       "3    Christopher Nolan (dir.), Christian Bale, Heat...  \n",
       "4        Sidney Lumet (dir.), Henry Fonda, Lee J. Cobb  \n",
       "..                                                 ...  \n",
       "245  Ron Clements (dir.), Scott Weinger, Robin Will...  \n",
       "246  Hayao Miyazaki (dir.), Anna Paquin, James Van ...  \n",
       "247         James Gunn (dir.), Chris Pratt, Vin Diesel  \n",
       "248  Gillo Pontecorvo (dir.), Brahim Hadjadj, Jean ...  \n",
       "249       Oriol Paulo (dir.), Mario Casas, Ana Wagener  \n",
       "\n",
       "[250 rows x 4 columns]"
      ]
     },
     "execution_count": 8,
     "metadata": {},
     "output_type": "execute_result"
    }
   ],
   "source": [
    "movies_dataframe"
   ]
  },
  {
   "cell_type": "code",
   "execution_count": 9,
   "metadata": {},
   "outputs": [],
   "source": [
    "movies_dataframe.to_csv('imdb_best_movies.csv')"
   ]
  }
 ],
 "metadata": {
  "kernelspec": {
   "display_name": "Python 3",
   "language": "python",
   "name": "python3"
  },
  "language_info": {
   "codemirror_mode": {
    "name": "ipython",
    "version": 3
   },
   "file_extension": ".py",
   "mimetype": "text/x-python",
   "name": "python",
   "nbconvert_exporter": "python",
   "pygments_lexer": "ipython3",
   "version": "3.7.5"
  }
 },
 "nbformat": 4,
 "nbformat_minor": 2
}
